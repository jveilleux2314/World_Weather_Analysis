{
 "cells": [
  {
   "cell_type": "code",
   "execution_count": 1,
   "metadata": {},
   "outputs": [],
   "source": [
    "# Import the dependencies.\n",
    "import pandas as pd\n",
    "import matplotlib.pyplot as plt\n",
    "import numpy as np\n",
    "import os"
   ]
  },
  {
   "cell_type": "code",
   "execution_count": 2,
   "metadata": {},
   "outputs": [
    {
     "data": {
      "text/plain": [
       "<zip at 0x7fbe230398c0>"
      ]
     },
     "execution_count": 2,
     "metadata": {},
     "output_type": "execute_result"
    }
   ],
   "source": [
    "# Create a set of random latitude and longitude combinations.\n",
    "lats = np.random.uniform(low=-90.000, high=90.000, size=1500)\n",
    "lngs = np.random.uniform(low=-180.000, high=180.000, size=1500)\n",
    "lat_lngs = zip(lats, lngs)\n",
    "lat_lngs"
   ]
  },
  {
   "cell_type": "code",
   "execution_count": 3,
   "metadata": {},
   "outputs": [],
   "source": [
    "# Add the latitudes and longitudes to a list.\n",
    "coordinates = list(lat_lngs)"
   ]
  },
  {
   "cell_type": "code",
   "execution_count": 4,
   "metadata": {},
   "outputs": [],
   "source": [
    "from citipy import citipy"
   ]
  },
  {
   "cell_type": "code",
   "execution_count": 5,
   "metadata": {},
   "outputs": [
    {
     "data": {
      "text/plain": [
       "620"
      ]
     },
     "execution_count": 5,
     "metadata": {},
     "output_type": "execute_result"
    }
   ],
   "source": [
    "# Create a list for holding the cities.\n",
    "cities = []\n",
    "# Identify the nearest city for each latitude and longitude combination.\n",
    "for coordinate in coordinates:\n",
    "    city = citipy.nearest_city(coordinate[0], coordinate[1]).city_name\n",
    "\n",
    "    # If the city is unique, then we will add it to the cities list.\n",
    "    if city not in cities:\n",
    "        cities.append(city)\n",
    "# Print the city count to confirm sufficient count.\n",
    "len(cities)"
   ]
  },
  {
   "cell_type": "code",
   "execution_count": 6,
   "metadata": {},
   "outputs": [],
   "source": [
    "# Import the requests library.\n",
    "import requests\n",
    "\n",
    "# Import the API key.\n",
    "from config import weather_api_key"
   ]
  },
  {
   "cell_type": "code",
   "execution_count": 7,
   "metadata": {},
   "outputs": [
    {
     "name": "stdout",
     "output_type": "stream",
     "text": [
      "http://api.openweathermap.org/data/2.5/weather?units=Imperial&APPID=805b9a94e2fe1ddbaf28830641ee3c1f\n"
     ]
    }
   ],
   "source": [
    "# Starting URL for Weather Map API Call.\n",
    "url = \"http://api.openweathermap.org/data/2.5/weather?units=Imperial&APPID=\" + weather_api_key\n",
    "print(url)"
   ]
  },
  {
   "cell_type": "code",
   "execution_count": 8,
   "metadata": {},
   "outputs": [
    {
     "name": "stdout",
     "output_type": "stream",
     "text": [
      "http://api.openweathermap.org/data/2.5/weather?units=Imperial&APPID=805b9a94e2fe1ddbaf28830641ee3c1f&q=Boston\n"
     ]
    }
   ],
   "source": [
    "# Create an endpoint URL for a city.\n",
    "city_url = url + \"&q=\" + \"Boston\"\n",
    "print(city_url)"
   ]
  },
  {
   "cell_type": "code",
   "execution_count": 9,
   "metadata": {},
   "outputs": [
    {
     "data": {
      "text/plain": [
       "<Response [200]>"
      ]
     },
     "execution_count": 9,
     "metadata": {},
     "output_type": "execute_result"
    }
   ],
   "source": [
    "# Make a 'Get' request for the city weather.\n",
    "city_weather = requests.get(city_url)\n",
    "city_weather"
   ]
  },
  {
   "cell_type": "code",
   "execution_count": 10,
   "metadata": {},
   "outputs": [
    {
     "data": {
      "text/plain": [
       "<Response [404]>"
      ]
     },
     "execution_count": 10,
     "metadata": {},
     "output_type": "execute_result"
    }
   ],
   "source": [
    "# Create an endpoint URL for a city.\n",
    "city_url = url + \"&q=\" + \"Bston\"\n",
    "city_weather = requests.get(city_url)\n",
    "city_weather"
   ]
  },
  {
   "cell_type": "code",
   "execution_count": 11,
   "metadata": {},
   "outputs": [
    {
     "data": {
      "text/plain": [
       "<Response [200]>"
      ]
     },
     "execution_count": 11,
     "metadata": {},
     "output_type": "execute_result"
    }
   ],
   "source": [
    "# Create an endpoint URL for a city.\n",
    "city_url = url + \"&q=\" + \"Boston\"\n",
    "city_weather = requests.get(city_url)\n",
    "city_weather"
   ]
  },
  {
   "cell_type": "code",
   "execution_count": 12,
   "metadata": {},
   "outputs": [
    {
     "data": {
      "text/plain": [
       "'{\"coord\":{\"lon\":-71.0598,\"lat\":42.3584},\"weather\":[{\"id\":802,\"main\":\"Clouds\",\"description\":\"scattered clouds\",\"icon\":\"03d\"}],\"base\":\"stations\",\"main\":{\"temp\":74.35,\"feels_like\":73.65,\"temp_min\":69.8,\"temp_max\":77,\"pressure\":1012,\"humidity\":46},\"visibility\":10000,\"wind\":{\"speed\":11.5,\"deg\":110},\"clouds\":{\"all\":40},\"dt\":1618078387,\"sys\":{\"type\":1,\"id\":3486,\"country\":\"US\",\"sunrise\":1618049451,\"sunset\":1618096778},\"timezone\":-14400,\"id\":4930956,\"name\":\"Boston\",\"cod\":200}'"
      ]
     },
     "execution_count": 12,
     "metadata": {},
     "output_type": "execute_result"
    }
   ],
   "source": [
    "# Get the text of the 'Get' request.\n",
    "city_weather.text"
   ]
  },
  {
   "cell_type": "code",
   "execution_count": 13,
   "metadata": {},
   "outputs": [
    {
     "data": {
      "text/plain": [
       "{'coord': {'lon': -71.0598, 'lat': 42.3584},\n",
       " 'weather': [{'id': 802,\n",
       "   'main': 'Clouds',\n",
       "   'description': 'scattered clouds',\n",
       "   'icon': '03d'}],\n",
       " 'base': 'stations',\n",
       " 'main': {'temp': 74.35,\n",
       "  'feels_like': 73.65,\n",
       "  'temp_min': 69.8,\n",
       "  'temp_max': 77,\n",
       "  'pressure': 1012,\n",
       "  'humidity': 46},\n",
       " 'visibility': 10000,\n",
       " 'wind': {'speed': 11.5, 'deg': 110},\n",
       " 'clouds': {'all': 40},\n",
       " 'dt': 1618078387,\n",
       " 'sys': {'type': 1,\n",
       "  'id': 3486,\n",
       "  'country': 'US',\n",
       "  'sunrise': 1618049451,\n",
       "  'sunset': 1618096778},\n",
       " 'timezone': -14400,\n",
       " 'id': 4930956,\n",
       " 'name': 'Boston',\n",
       " 'cod': 200}"
      ]
     },
     "execution_count": 13,
     "metadata": {},
     "output_type": "execute_result"
    }
   ],
   "source": [
    "# Get the JSON text of the 'Get' request.\n",
    "city_weather.json()"
   ]
  },
  {
   "cell_type": "code",
   "execution_count": 14,
   "metadata": {},
   "outputs": [
    {
     "name": "stdout",
     "output_type": "stream",
     "text": [
      "City Weather found.\n"
     ]
    }
   ],
   "source": [
    "# Create an endpoint URL for a city.\n",
    "city_url = url + \"&q=\" + \"Boston\"\n",
    "city_weather = requests.get(city_url)\n",
    "if city_weather.status_code == 200:\n",
    "    print(f\"City Weather found.\")\n",
    "else:\n",
    "    print(f\"City weather not found.\")"
   ]
  },
  {
   "cell_type": "code",
   "execution_count": 15,
   "metadata": {},
   "outputs": [
    {
     "name": "stdout",
     "output_type": "stream",
     "text": [
      "City Weather found.\n"
     ]
    }
   ],
   "source": [
    "# Create an endpoint URL for a city.\n",
    "city_url = url + \"&q=\" + \"Bston\"\n",
    "city_weather = requests.get(city_url)\n",
    "if city_weather.json():\n",
    "    print(f\"City Weather found.\")\n",
    "else:\n",
    "    print(f\"City weather not found.\")"
   ]
  },
  {
   "cell_type": "code",
   "execution_count": 16,
   "metadata": {},
   "outputs": [
    {
     "name": "stdout",
     "output_type": "stream",
     "text": [
      "http://api.openweathermap.org/data/2.5/weather?units=Imperial&APPID=805b9a94e2fe1ddbaf28830641ee3c1f&q=Bston\n"
     ]
    }
   ],
   "source": [
    "print(city_url)"
   ]
  },
  {
   "cell_type": "code",
   "execution_count": 17,
   "metadata": {},
   "outputs": [
    {
     "data": {
      "text/plain": [
       "{'coord': {'lon': -71.0598, 'lat': 42.3584},\n",
       " 'weather': [{'id': 802,\n",
       "   'main': 'Clouds',\n",
       "   'description': 'scattered clouds',\n",
       "   'icon': '03d'}],\n",
       " 'base': 'stations',\n",
       " 'main': {'temp': 74.35,\n",
       "  'feels_like': 73.65,\n",
       "  'temp_min': 69.8,\n",
       "  'temp_max': 77,\n",
       "  'pressure': 1012,\n",
       "  'humidity': 46},\n",
       " 'visibility': 10000,\n",
       " 'wind': {'speed': 11.5, 'deg': 110},\n",
       " 'clouds': {'all': 40},\n",
       " 'dt': 1618078387,\n",
       " 'sys': {'type': 1,\n",
       "  'id': 3486,\n",
       "  'country': 'US',\n",
       "  'sunrise': 1618049451,\n",
       "  'sunset': 1618096778},\n",
       " 'timezone': -14400,\n",
       " 'id': 4930956,\n",
       " 'name': 'Boston',\n",
       " 'cod': 200}"
      ]
     },
     "execution_count": 17,
     "metadata": {},
     "output_type": "execute_result"
    }
   ],
   "source": [
    "# Create an endpoint URL for a city.\n",
    "city_url = url + \"&q=\" + \"Boston\"\n",
    "city_weather = requests.get(city_url)\n",
    "city_weather.json()"
   ]
  },
  {
   "cell_type": "code",
   "execution_count": 18,
   "metadata": {},
   "outputs": [],
   "source": [
    "# Get the JSON data.\n",
    "boston_data = city_weather.json()"
   ]
  },
  {
   "cell_type": "code",
   "execution_count": 19,
   "metadata": {},
   "outputs": [
    {
     "name": "stdout",
     "output_type": "stream",
     "text": [
      "42.3584 -71.0598 77 46 40 11.5\n"
     ]
    }
   ],
   "source": [
    "lat = boston_data[\"coord\"][\"lat\"]\n",
    "lng = boston_data[\"coord\"][\"lon\"]\n",
    "max_temp = boston_data[\"main\"][\"temp_max\"]\n",
    "humidity = boston_data[\"main\"][\"humidity\"]\n",
    "clouds = boston_data[\"clouds\"][\"all\"]\n",
    "wind = boston_data[\"wind\"][\"speed\"]\n",
    "print(lat, lng, max_temp, humidity, clouds, wind)"
   ]
  },
  {
   "cell_type": "code",
   "execution_count": 20,
   "metadata": {},
   "outputs": [],
   "source": [
    "# Import the datetime module from the datetime library.\n",
    "from datetime import datetime"
   ]
  },
  {
   "cell_type": "code",
   "execution_count": 21,
   "metadata": {
    "scrolled": false
   },
   "outputs": [
    {
     "name": "stdout",
     "output_type": "stream",
     "text": [
      "Beginning Data Retrieval     \n",
      "-----------------------------\n",
      "Processing Record 1 of Set 1 | busselton\n",
      "Processing Record 2 of Set 1 | nantucket\n",
      "Processing Record 3 of Set 1 | mataura\n",
      "Processing Record 4 of Set 1 | pocinhos\n",
      "Processing Record 5 of Set 1 | san policarpo\n",
      "Processing Record 6 of Set 1 | rikitea\n",
      "Processing Record 7 of Set 1 | zabol\n",
      "Processing Record 8 of Set 1 | saint-philippe\n",
      "Processing Record 9 of Set 1 | takapau\n",
      "Processing Record 10 of Set 1 | hilo\n",
      "Processing Record 11 of Set 1 | hofn\n",
      "Processing Record 12 of Set 1 | mahebourg\n",
      "Processing Record 13 of Set 1 | bredasdorp\n",
      "Processing Record 14 of Set 1 | ushuaia\n",
      "Processing Record 15 of Set 1 | vanavara\n",
      "Processing Record 16 of Set 1 | kaitangata\n",
      "Processing Record 17 of Set 1 | key largo\n",
      "Processing Record 18 of Set 1 | alice springs\n",
      "Processing Record 19 of Set 1 | rio gallegos\n",
      "Processing Record 20 of Set 1 | caravelas\n",
      "Processing Record 21 of Set 1 | cape town\n",
      "Processing Record 22 of Set 1 | kapaa\n",
      "Processing Record 23 of Set 1 | torbay\n",
      "Processing Record 24 of Set 1 | punta cardon\n",
      "Processing Record 25 of Set 1 | bargal\n",
      "City not found. Skipping...\n",
      "Processing Record 26 of Set 1 | shubarshi\n",
      "Processing Record 27 of Set 1 | castro\n",
      "Processing Record 28 of Set 1 | hermanus\n",
      "Processing Record 29 of Set 1 | bathsheba\n",
      "Processing Record 30 of Set 1 | norman wells\n",
      "Processing Record 31 of Set 1 | biak\n",
      "Processing Record 32 of Set 1 | nikolskoye\n",
      "Processing Record 33 of Set 1 | kodiak\n",
      "Processing Record 34 of Set 1 | punta arenas\n",
      "Processing Record 35 of Set 1 | new norfolk\n",
      "Processing Record 36 of Set 1 | karacabey\n",
      "Processing Record 37 of Set 1 | naifaru\n",
      "Processing Record 38 of Set 1 | banjar\n",
      "Processing Record 39 of Set 1 | ozernovskiy\n",
      "Processing Record 40 of Set 1 | dutlwe\n",
      "Processing Record 41 of Set 1 | taolanaro\n",
      "City not found. Skipping...\n",
      "Processing Record 42 of Set 1 | barrow\n",
      "Processing Record 43 of Set 1 | rocha\n",
      "Processing Record 44 of Set 1 | puerto cabezas\n",
      "Processing Record 45 of Set 1 | atuona\n",
      "Processing Record 46 of Set 1 | yerbogachen\n",
      "Processing Record 47 of Set 1 | nyaunglebin\n",
      "Processing Record 48 of Set 1 | emerald\n",
      "Processing Record 49 of Set 1 | port alfred\n",
      "Processing Record 50 of Set 1 | bethel\n",
      "Processing Record 1 of Set 2 | yecla\n",
      "Processing Record 2 of Set 2 | grindavik\n",
      "Processing Record 3 of Set 2 | key west\n",
      "Processing Record 4 of Set 2 | carutapera\n",
      "Processing Record 5 of Set 2 | mar del plata\n",
      "Processing Record 6 of Set 2 | tawkar\n",
      "City not found. Skipping...\n",
      "Processing Record 7 of Set 2 | banamba\n",
      "Processing Record 8 of Set 2 | mount gambier\n",
      "Processing Record 9 of Set 2 | souillac\n",
      "Processing Record 10 of Set 2 | ribeira grande\n",
      "Processing Record 11 of Set 2 | rabo de peixe\n",
      "Processing Record 12 of Set 2 | bud\n",
      "Processing Record 13 of Set 2 | belushya guba\n",
      "City not found. Skipping...\n",
      "Processing Record 14 of Set 2 | tiznit\n",
      "Processing Record 15 of Set 2 | camacha\n",
      "Processing Record 16 of Set 2 | berlevag\n",
      "Processing Record 17 of Set 2 | longyearbyen\n",
      "Processing Record 18 of Set 2 | carnarvon\n",
      "Processing Record 19 of Set 2 | tarakan\n",
      "Processing Record 20 of Set 2 | vila franca do campo\n",
      "Processing Record 21 of Set 2 | margate\n",
      "Processing Record 22 of Set 2 | taketa\n",
      "Processing Record 23 of Set 2 | abu zabad\n",
      "Processing Record 24 of Set 2 | san andres\n",
      "Processing Record 25 of Set 2 | qaanaaq\n",
      "Processing Record 26 of Set 2 | sentyabrskiy\n",
      "City not found. Skipping...\n",
      "Processing Record 27 of Set 2 | geraldton\n",
      "Processing Record 28 of Set 2 | kano\n",
      "Processing Record 29 of Set 2 | antofagasta\n",
      "Processing Record 30 of Set 2 | east london\n",
      "Processing Record 31 of Set 2 | caronport\n",
      "Processing Record 32 of Set 2 | kargasok\n",
      "Processing Record 33 of Set 2 | saleaula\n",
      "City not found. Skipping...\n",
      "Processing Record 34 of Set 2 | pisco\n",
      "Processing Record 35 of Set 2 | luderitz\n",
      "Processing Record 36 of Set 2 | matara\n",
      "Processing Record 37 of Set 2 | dingle\n",
      "Processing Record 38 of Set 2 | pauini\n",
      "Processing Record 39 of Set 2 | ponta do sol\n",
      "Processing Record 40 of Set 2 | jaisalmer\n",
      "Processing Record 41 of Set 2 | san fernando\n",
      "Processing Record 42 of Set 2 | hithadhoo\n",
      "Processing Record 43 of Set 2 | yellowknife\n",
      "Processing Record 44 of Set 2 | alyangula\n",
      "Processing Record 45 of Set 2 | kavaratti\n",
      "Processing Record 46 of Set 2 | severo-kurilsk\n",
      "Processing Record 47 of Set 2 | thompson\n",
      "Processing Record 48 of Set 2 | hatton\n",
      "Processing Record 49 of Set 2 | lebu\n",
      "Processing Record 50 of Set 2 | bubaque\n",
      "Processing Record 1 of Set 3 | airai\n",
      "Processing Record 2 of Set 3 | bang saphan\n",
      "Processing Record 3 of Set 3 | tonantins\n",
      "Processing Record 4 of Set 3 | jamestown\n",
      "Processing Record 5 of Set 3 | xianyang\n",
      "Processing Record 6 of Set 3 | haicheng\n",
      "Processing Record 7 of Set 3 | tuxpan\n",
      "Processing Record 8 of Set 3 | port elizabeth\n",
      "Processing Record 9 of Set 3 | mys shmidta\n",
      "City not found. Skipping...\n",
      "Processing Record 10 of Set 3 | dzerzhinsk\n",
      "Processing Record 11 of Set 3 | tomatlan\n",
      "Processing Record 12 of Set 3 | srednekolymsk\n",
      "Processing Record 13 of Set 3 | bonthe\n",
      "Processing Record 14 of Set 3 | kumbo\n",
      "Processing Record 15 of Set 3 | vaini\n",
      "Processing Record 16 of Set 3 | ancud\n",
      "Processing Record 17 of Set 3 | saskylakh\n",
      "Processing Record 18 of Set 3 | bintulu\n",
      "Processing Record 19 of Set 3 | ilula\n",
      "Processing Record 20 of Set 3 | albany\n",
      "Processing Record 21 of Set 3 | ilulissat\n",
      "Processing Record 22 of Set 3 | hobart\n",
      "Processing Record 23 of Set 3 | hokitika\n",
      "Processing Record 24 of Set 3 | tabialan\n",
      "City not found. Skipping...\n",
      "Processing Record 25 of Set 3 | cidreira\n",
      "Processing Record 26 of Set 3 | khatanga\n",
      "Processing Record 27 of Set 3 | puerto ayora\n",
      "Processing Record 28 of Set 3 | barentsburg\n",
      "City not found. Skipping...\n",
      "Processing Record 29 of Set 3 | mega\n",
      "Processing Record 30 of Set 3 | porangatu\n",
      "Processing Record 31 of Set 3 | tiksi\n",
      "Processing Record 32 of Set 3 | tuatapere\n",
      "Processing Record 33 of Set 3 | merauke\n",
      "Processing Record 34 of Set 3 | ust-kamchatsk\n",
      "City not found. Skipping...\n",
      "Processing Record 35 of Set 3 | bluff\n",
      "Processing Record 36 of Set 3 | tuktoyaktuk\n",
      "Processing Record 37 of Set 3 | qinnan\n",
      "Processing Record 38 of Set 3 | taitung\n",
      "Processing Record 39 of Set 3 | thinadhoo\n",
      "Processing Record 40 of Set 3 | zachagansk\n",
      "City not found. Skipping...\n",
      "Processing Record 41 of Set 3 | yulara\n",
      "Processing Record 42 of Set 3 | pangai\n",
      "Processing Record 43 of Set 3 | vestmannaeyjar\n",
      "Processing Record 44 of Set 3 | nanortalik\n",
      "Processing Record 45 of Set 3 | komsomolskiy\n",
      "Processing Record 46 of Set 3 | taonan\n",
      "Processing Record 47 of Set 3 | chihuahua\n",
      "Processing Record 48 of Set 3 | avarua\n",
      "Processing Record 49 of Set 3 | rio grande\n",
      "Processing Record 50 of Set 3 | ambunti\n",
      "Processing Record 1 of Set 4 | cuxhaven\n",
      "Processing Record 2 of Set 4 | timra\n",
      "Processing Record 3 of Set 4 | qandala\n",
      "Processing Record 4 of Set 4 | mawlaik\n",
      "Processing Record 5 of Set 4 | vagur\n",
      "Processing Record 6 of Set 4 | dikson\n",
      "Processing Record 7 of Set 4 | bom jesus do itabapoana\n",
      "Processing Record 8 of Set 4 | ondjiva\n",
      "Processing Record 9 of Set 4 | berezniki\n",
      "Processing Record 10 of Set 4 | hegang\n",
      "Processing Record 11 of Set 4 | warqla\n",
      "City not found. Skipping...\n",
      "Processing Record 12 of Set 4 | bokspits\n",
      "City not found. Skipping...\n",
      "Processing Record 13 of Set 4 | beni suef\n",
      "Processing Record 14 of Set 4 | waddan\n",
      "Processing Record 15 of Set 4 | fortuna\n",
      "Processing Record 16 of Set 4 | gonyu\n",
      "City not found. Skipping...\n",
      "Processing Record 17 of Set 4 | otane\n",
      "Processing Record 18 of Set 4 | darhan\n",
      "Processing Record 19 of Set 4 | kruisfontein\n",
      "Processing Record 20 of Set 4 | eureka\n",
      "Processing Record 21 of Set 4 | karaul\n",
      "City not found. Skipping...\n",
      "Processing Record 22 of Set 4 | serenje\n",
      "Processing Record 23 of Set 4 | tabou\n",
      "Processing Record 24 of Set 4 | arraial do cabo\n",
      "Processing Record 25 of Set 4 | mumbwa\n",
      "Processing Record 26 of Set 4 | kahului\n",
      "Processing Record 27 of Set 4 | barentu\n",
      "Processing Record 28 of Set 4 | shimoda\n",
      "Processing Record 29 of Set 4 | nemuro\n",
      "Processing Record 30 of Set 4 | pacific grove\n",
      "Processing Record 31 of Set 4 | sao filipe\n",
      "Processing Record 32 of Set 4 | tongzi\n",
      "Processing Record 33 of Set 4 | la reforma\n",
      "Processing Record 34 of Set 4 | ler\n",
      "Processing Record 35 of Set 4 | panjab\n",
      "Processing Record 36 of Set 4 | belmonte\n",
      "Processing Record 37 of Set 4 | faanui\n",
      "Processing Record 38 of Set 4 | beroroha\n"
     ]
    },
    {
     "name": "stdout",
     "output_type": "stream",
     "text": [
      "Processing Record 39 of Set 4 | flin flon\n",
      "Processing Record 40 of Set 4 | namatanai\n",
      "Processing Record 41 of Set 4 | wajir\n",
      "Processing Record 42 of Set 4 | goderich\n",
      "Processing Record 43 of Set 4 | les cayes\n",
      "Processing Record 44 of Set 4 | port augusta\n",
      "Processing Record 45 of Set 4 | moshi\n",
      "Processing Record 46 of Set 4 | amderma\n",
      "City not found. Skipping...\n",
      "Processing Record 47 of Set 4 | solnechnyy\n",
      "Processing Record 48 of Set 4 | manzanillo\n",
      "Processing Record 49 of Set 4 | mbanza-ngungu\n",
      "Processing Record 50 of Set 4 | half moon bay\n",
      "Processing Record 1 of Set 5 | bengkulu\n",
      "Processing Record 2 of Set 5 | flinders\n",
      "Processing Record 3 of Set 5 | palmares do sul\n",
      "Processing Record 4 of Set 5 | paragominas\n",
      "Processing Record 5 of Set 5 | korla\n",
      "Processing Record 6 of Set 5 | sidrolandia\n",
      "Processing Record 7 of Set 5 | morondava\n",
      "Processing Record 8 of Set 5 | motaeni\n",
      "Processing Record 9 of Set 5 | umm kaddadah\n",
      "Processing Record 10 of Set 5 | havre-saint-pierre\n",
      "Processing Record 11 of Set 5 | waipawa\n",
      "Processing Record 12 of Set 5 | magrath\n",
      "Processing Record 13 of Set 5 | namibe\n",
      "Processing Record 14 of Set 5 | cabo san lucas\n",
      "Processing Record 15 of Set 5 | louisbourg\n",
      "City not found. Skipping...\n",
      "Processing Record 16 of Set 5 | marawi\n",
      "Processing Record 17 of Set 5 | lompoc\n",
      "Processing Record 18 of Set 5 | chore\n",
      "City not found. Skipping...\n",
      "Processing Record 19 of Set 5 | chuy\n",
      "Processing Record 20 of Set 5 | jijiga\n",
      "Processing Record 21 of Set 5 | kamenka\n",
      "Processing Record 22 of Set 5 | broome\n",
      "Processing Record 23 of Set 5 | georgetown\n",
      "Processing Record 24 of Set 5 | nioki\n",
      "Processing Record 25 of Set 5 | samusu\n",
      "City not found. Skipping...\n",
      "Processing Record 26 of Set 5 | hamilton\n",
      "Processing Record 27 of Set 5 | cranbrook\n",
      "Processing Record 28 of Set 5 | alenquer\n",
      "Processing Record 29 of Set 5 | kathu\n",
      "Processing Record 30 of Set 5 | houma\n",
      "Processing Record 31 of Set 5 | chokurdakh\n",
      "Processing Record 32 of Set 5 | acapulco\n",
      "Processing Record 33 of Set 5 | tsihombe\n",
      "City not found. Skipping...\n",
      "Processing Record 34 of Set 5 | mamallapuram\n",
      "Processing Record 35 of Set 5 | giyani\n",
      "Processing Record 36 of Set 5 | mahenge\n",
      "Processing Record 37 of Set 5 | santiago del estero\n",
      "Processing Record 38 of Set 5 | muros\n",
      "Processing Record 39 of Set 5 | narsaq\n",
      "Processing Record 40 of Set 5 | komyshuvakha\n",
      "Processing Record 41 of Set 5 | illoqqortoormiut\n",
      "City not found. Skipping...\n",
      "Processing Record 42 of Set 5 | cockburn town\n",
      "Processing Record 43 of Set 5 | shahrud\n",
      "Processing Record 44 of Set 5 | yizheng\n",
      "Processing Record 45 of Set 5 | bonavista\n",
      "Processing Record 46 of Set 5 | artyk\n",
      "City not found. Skipping...\n",
      "Processing Record 47 of Set 5 | saint-leu\n",
      "Processing Record 48 of Set 5 | lebyazhye\n",
      "Processing Record 49 of Set 5 | fort saint john\n",
      "City not found. Skipping...\n",
      "Processing Record 50 of Set 5 | pachino\n",
      "Processing Record 1 of Set 6 | panzhihua\n",
      "Processing Record 2 of Set 6 | rio bravo\n",
      "Processing Record 3 of Set 6 | kavieng\n",
      "Processing Record 4 of Set 6 | hare bay\n",
      "Processing Record 5 of Set 6 | tahta\n",
      "Processing Record 6 of Set 6 | qingdao\n",
      "Processing Record 7 of Set 6 | alma\n",
      "Processing Record 8 of Set 6 | saint george\n",
      "Processing Record 9 of Set 6 | syracuse\n",
      "Processing Record 10 of Set 6 | prince rupert\n",
      "Processing Record 11 of Set 6 | grand river south east\n",
      "City not found. Skipping...\n",
      "Processing Record 12 of Set 6 | dunedin\n",
      "Processing Record 13 of Set 6 | cherskiy\n",
      "Processing Record 14 of Set 6 | inhambane\n",
      "Processing Record 15 of Set 6 | barbar\n",
      "City not found. Skipping...\n",
      "Processing Record 16 of Set 6 | udachnyy\n",
      "Processing Record 17 of Set 6 | omsukchan\n",
      "Processing Record 18 of Set 6 | san patricio\n",
      "Processing Record 19 of Set 6 | inongo\n",
      "Processing Record 20 of Set 6 | juneau\n",
      "Processing Record 21 of Set 6 | alofi\n",
      "Processing Record 22 of Set 6 | alpena\n",
      "Processing Record 23 of Set 6 | price\n",
      "Processing Record 24 of Set 6 | vaitupu\n",
      "City not found. Skipping...\n",
      "Processing Record 25 of Set 6 | pevek\n",
      "Processing Record 26 of Set 6 | ahipara\n",
      "Processing Record 27 of Set 6 | kaeo\n",
      "Processing Record 28 of Set 6 | seoul\n",
      "Processing Record 29 of Set 6 | lahat\n",
      "Processing Record 30 of Set 6 | sao joao de pirabas\n",
      "Processing Record 31 of Set 6 | merke\n",
      "Processing Record 32 of Set 6 | brigantine\n",
      "Processing Record 33 of Set 6 | lavrentiya\n",
      "Processing Record 34 of Set 6 | quelimane\n",
      "Processing Record 35 of Set 6 | orchard homes\n",
      "Processing Record 36 of Set 6 | tyret pervaya\n",
      "Processing Record 37 of Set 6 | verkhnevilyuysk\n",
      "Processing Record 38 of Set 6 | ostrovnoy\n",
      "Processing Record 39 of Set 6 | bambous virieux\n",
      "Processing Record 40 of Set 6 | balgazyn\n",
      "Processing Record 41 of Set 6 | huarmey\n",
      "Processing Record 42 of Set 6 | leningradskiy\n",
      "Processing Record 43 of Set 6 | mananjary\n",
      "Processing Record 44 of Set 6 | iquitos\n",
      "Processing Record 45 of Set 6 | sao geraldo do araguaia\n",
      "Processing Record 46 of Set 6 | calvinia\n",
      "Processing Record 47 of Set 6 | ornskoldsvik\n",
      "Processing Record 48 of Set 6 | haines junction\n",
      "Processing Record 49 of Set 6 | esperanza\n",
      "Processing Record 50 of Set 6 | warrington\n",
      "Processing Record 1 of Set 7 | urulga\n",
      "City not found. Skipping...\n",
      "Processing Record 2 of Set 7 | marsh harbour\n",
      "Processing Record 3 of Set 7 | gornyy\n",
      "Processing Record 4 of Set 7 | kawalu\n",
      "Processing Record 5 of Set 7 | klaksvik\n",
      "Processing Record 6 of Set 7 | te anau\n",
      "Processing Record 7 of Set 7 | peterborough\n",
      "Processing Record 8 of Set 7 | monrovia\n",
      "Processing Record 9 of Set 7 | praia da vitoria\n",
      "Processing Record 10 of Set 7 | lasa\n",
      "Processing Record 11 of Set 7 | portland\n",
      "Processing Record 12 of Set 7 | anadyr\n",
      "Processing Record 13 of Set 7 | tessalit\n",
      "Processing Record 14 of Set 7 | manono\n",
      "Processing Record 15 of Set 7 | dannenberg\n",
      "Processing Record 16 of Set 7 | yar-sale\n",
      "Processing Record 17 of Set 7 | sumbawa\n",
      "City not found. Skipping...\n",
      "Processing Record 18 of Set 7 | nizhneyansk\n",
      "City not found. Skipping...\n",
      "Processing Record 19 of Set 7 | kysyl-syr\n",
      "Processing Record 20 of Set 7 | chagda\n",
      "City not found. Skipping...\n",
      "Processing Record 21 of Set 7 | luganville\n",
      "Processing Record 22 of Set 7 | monywa\n",
      "Processing Record 23 of Set 7 | grafenau\n",
      "Processing Record 24 of Set 7 | butaritari\n",
      "Processing Record 25 of Set 7 | helena\n",
      "Processing Record 26 of Set 7 | tarko-sale\n",
      "Processing Record 27 of Set 7 | san cristobal\n",
      "Processing Record 28 of Set 7 | traverse city\n",
      "Processing Record 29 of Set 7 | meyungs\n",
      "City not found. Skipping...\n",
      "Processing Record 30 of Set 7 | chicama\n",
      "Processing Record 31 of Set 7 | hereford\n",
      "Processing Record 32 of Set 7 | zhangjiakou\n",
      "Processing Record 33 of Set 7 | kosikha\n",
      "Processing Record 34 of Set 7 | jumla\n",
      "Processing Record 35 of Set 7 | waingapu\n",
      "Processing Record 36 of Set 7 | clyde river\n",
      "Processing Record 37 of Set 7 | sao joao da barra\n",
      "Processing Record 38 of Set 7 | kulhudhuffushi\n",
      "Processing Record 39 of Set 7 | saint anthony\n",
      "Processing Record 40 of Set 7 | lerwick\n",
      "Processing Record 41 of Set 7 | roald\n",
      "Processing Record 42 of Set 7 | victoria\n",
      "Processing Record 43 of Set 7 | fukue\n",
      "Processing Record 44 of Set 7 | lombardia\n",
      "Processing Record 45 of Set 7 | naranjito\n",
      "Processing Record 46 of Set 7 | rudiskes\n",
      "Processing Record 47 of Set 7 | richards bay\n",
      "Processing Record 48 of Set 7 | maues\n",
      "Processing Record 49 of Set 7 | gondanglegi\n",
      "Processing Record 50 of Set 7 | champerico\n",
      "Processing Record 1 of Set 8 | hovd\n",
      "Processing Record 2 of Set 8 | viedma\n",
      "Processing Record 3 of Set 8 | tasiilaq\n",
      "Processing Record 4 of Set 8 | pathein\n",
      "Processing Record 5 of Set 8 | paka\n",
      "Processing Record 6 of Set 8 | ketchikan\n",
      "Processing Record 7 of Set 8 | antananarivo\n",
      "Processing Record 8 of Set 8 | turkistan\n",
      "Processing Record 9 of Set 8 | sitka\n",
      "Processing Record 10 of Set 8 | hami\n",
      "Processing Record 11 of Set 8 | mankono\n",
      "Processing Record 12 of Set 8 | corning\n",
      "Processing Record 13 of Set 8 | sambava\n",
      "Processing Record 14 of Set 8 | manzil tamim\n",
      "City not found. Skipping...\n",
      "Processing Record 15 of Set 8 | burnie\n",
      "Processing Record 16 of Set 8 | mount isa\n",
      "Processing Record 17 of Set 8 | aswan\n",
      "Processing Record 18 of Set 8 | teguldet\n",
      "Processing Record 19 of Set 8 | murcia\n",
      "Processing Record 20 of Set 8 | kieta\n",
      "Processing Record 21 of Set 8 | kolosovka\n",
      "Processing Record 22 of Set 8 | mungwi\n",
      "Processing Record 23 of Set 8 | walvis bay\n",
      "Processing Record 24 of Set 8 | kirakira\n"
     ]
    },
    {
     "name": "stdout",
     "output_type": "stream",
     "text": [
      "Processing Record 25 of Set 8 | the valley\n",
      "Processing Record 26 of Set 8 | zakamensk\n",
      "Processing Record 27 of Set 8 | chapais\n",
      "Processing Record 28 of Set 8 | bachaquero\n",
      "Processing Record 29 of Set 8 | olafsvik\n",
      "Processing Record 30 of Set 8 | bandipur\n",
      "Processing Record 31 of Set 8 | sechura\n",
      "Processing Record 32 of Set 8 | pacifica\n",
      "Processing Record 33 of Set 8 | vila velha\n",
      "Processing Record 34 of Set 8 | ust-bolsheretsk\n",
      "City not found. Skipping...\n",
      "Processing Record 35 of Set 8 | edinet\n",
      "Processing Record 36 of Set 8 | ruatoria\n",
      "City not found. Skipping...\n",
      "Processing Record 37 of Set 8 | katherine\n",
      "Processing Record 38 of Set 8 | asau\n",
      "Processing Record 39 of Set 8 | yumen\n",
      "Processing Record 40 of Set 8 | mumford\n",
      "Processing Record 41 of Set 8 | katsuura\n",
      "Processing Record 42 of Set 8 | carbonia\n",
      "Processing Record 43 of Set 8 | ixtapa\n",
      "Processing Record 44 of Set 8 | wilmington\n",
      "Processing Record 45 of Set 8 | deep river\n",
      "Processing Record 46 of Set 8 | paamiut\n",
      "Processing Record 47 of Set 8 | caraz\n",
      "Processing Record 48 of Set 8 | attawapiskat\n",
      "City not found. Skipping...\n",
      "Processing Record 49 of Set 8 | omboue\n",
      "Processing Record 50 of Set 8 | paradwip\n",
      "City not found. Skipping...\n",
      "Processing Record 1 of Set 9 | det udom\n",
      "Processing Record 2 of Set 9 | santa maria\n",
      "Processing Record 3 of Set 9 | deputatskiy\n",
      "Processing Record 4 of Set 9 | kalmunai\n",
      "Processing Record 5 of Set 9 | qaqortoq\n",
      "Processing Record 6 of Set 9 | parabel\n",
      "Processing Record 7 of Set 9 | ulladulla\n",
      "Processing Record 8 of Set 9 | kutum\n",
      "Processing Record 9 of Set 9 | itarema\n",
      "Processing Record 10 of Set 9 | tunduru\n",
      "City not found. Skipping...\n",
      "Processing Record 11 of Set 9 | arona\n",
      "Processing Record 12 of Set 9 | sioux lookout\n",
      "Processing Record 13 of Set 9 | egvekinot\n",
      "Processing Record 14 of Set 9 | talnakh\n",
      "Processing Record 15 of Set 9 | aranos\n",
      "Processing Record 16 of Set 9 | chokwe\n",
      "Processing Record 17 of Set 9 | kabare\n",
      "Processing Record 18 of Set 9 | el dorado\n",
      "Processing Record 19 of Set 9 | khudumelapye\n",
      "Processing Record 20 of Set 9 | farafangana\n",
      "Processing Record 21 of Set 9 | nacala\n",
      "Processing Record 22 of Set 9 | jamsa\n",
      "Processing Record 23 of Set 9 | sydney\n",
      "Processing Record 24 of Set 9 | visnes\n",
      "Processing Record 25 of Set 9 | uyuni\n",
      "Processing Record 26 of Set 9 | jawhar\n",
      "Processing Record 27 of Set 9 | kokopo\n",
      "Processing Record 28 of Set 9 | caxito\n",
      "Processing Record 29 of Set 9 | warrenton\n",
      "Processing Record 30 of Set 9 | gigmoto\n",
      "Processing Record 31 of Set 9 | hualmay\n",
      "Processing Record 32 of Set 9 | sabang\n",
      "Processing Record 33 of Set 9 | southbridge\n",
      "Processing Record 34 of Set 9 | santiago de cao\n",
      "Processing Record 35 of Set 9 | la rioja\n",
      "Processing Record 36 of Set 9 | lar gerd\n",
      "City not found. Skipping...\n",
      "Processing Record 37 of Set 9 | gushikawa\n",
      "Processing Record 38 of Set 9 | slubice\n",
      "Processing Record 39 of Set 9 | ust-tsilma\n",
      "Processing Record 40 of Set 9 | bryan\n",
      "Processing Record 41 of Set 9 | smolenka\n",
      "Processing Record 42 of Set 9 | la ronge\n",
      "Processing Record 43 of Set 9 | alihe\n",
      "Processing Record 44 of Set 9 | kilakarai\n",
      "Processing Record 45 of Set 9 | atbasar\n",
      "Processing Record 46 of Set 9 | sola\n",
      "Processing Record 47 of Set 9 | atambua\n",
      "Processing Record 48 of Set 9 | sortavala\n",
      "Processing Record 49 of Set 9 | la ferte-bernard\n",
      "Processing Record 50 of Set 9 | adrar\n",
      "Processing Record 1 of Set 10 | qui nhon\n",
      "Processing Record 2 of Set 10 | tuggurt\n",
      "City not found. Skipping...\n",
      "Processing Record 3 of Set 10 | guerrero negro\n",
      "Processing Record 4 of Set 10 | ko samui\n",
      "Processing Record 5 of Set 10 | khanu woralaksaburi\n",
      "Processing Record 6 of Set 10 | cayenne\n",
      "Processing Record 7 of Set 10 | nioro\n",
      "Processing Record 8 of Set 10 | batetskiy\n",
      "Processing Record 9 of Set 10 | buala\n",
      "Processing Record 10 of Set 10 | iqaluit\n",
      "Processing Record 11 of Set 10 | tazovskiy\n",
      "Processing Record 12 of Set 10 | mahadday weyne\n",
      "City not found. Skipping...\n",
      "Processing Record 13 of Set 10 | samalaeulu\n",
      "City not found. Skipping...\n",
      "Processing Record 14 of Set 10 | buraydah\n",
      "Processing Record 15 of Set 10 | buchanan\n",
      "Processing Record 16 of Set 10 | collie\n",
      "Processing Record 17 of Set 10 | abu kamal\n",
      "Processing Record 18 of Set 10 | port hardy\n",
      "Processing Record 19 of Set 10 | northam\n",
      "Processing Record 20 of Set 10 | yaan\n",
      "Processing Record 21 of Set 10 | baykit\n",
      "Processing Record 22 of Set 10 | westport\n",
      "Processing Record 23 of Set 10 | payyannur\n",
      "Processing Record 24 of Set 10 | san quintin\n",
      "Processing Record 25 of Set 10 | bolungarvik\n",
      "City not found. Skipping...\n",
      "Processing Record 26 of Set 10 | swan hill\n",
      "Processing Record 27 of Set 10 | naze\n",
      "Processing Record 28 of Set 10 | karratha\n",
      "Processing Record 29 of Set 10 | palmas bellas\n",
      "Processing Record 30 of Set 10 | basco\n",
      "Processing Record 31 of Set 10 | cartagena\n",
      "Processing Record 32 of Set 10 | ust-omchug\n",
      "Processing Record 33 of Set 10 | mayo\n",
      "Processing Record 34 of Set 10 | general roca\n",
      "Processing Record 35 of Set 10 | sri aman\n",
      "Processing Record 36 of Set 10 | shurob\n",
      "Processing Record 37 of Set 10 | ampanihy\n",
      "Processing Record 38 of Set 10 | lamu\n",
      "Processing Record 39 of Set 10 | wufeng\n",
      "Processing Record 40 of Set 10 | namie\n",
      "Processing Record 41 of Set 10 | puerto narino\n",
      "Processing Record 42 of Set 10 | vao\n",
      "Processing Record 43 of Set 10 | svetlaya\n",
      "Processing Record 44 of Set 10 | okha\n",
      "Processing Record 45 of Set 10 | aksarka\n",
      "Processing Record 46 of Set 10 | astana\n",
      "Processing Record 47 of Set 10 | galiwinku\n",
      "City not found. Skipping...\n",
      "Processing Record 48 of Set 10 | uige\n",
      "Processing Record 49 of Set 10 | roebourne\n",
      "Processing Record 50 of Set 10 | guatire\n",
      "Processing Record 1 of Set 11 | inderborskiy\n",
      "City not found. Skipping...\n",
      "Processing Record 2 of Set 11 | kenai\n",
      "Processing Record 3 of Set 11 | kikerino\n",
      "Processing Record 4 of Set 11 | turayf\n",
      "Processing Record 5 of Set 11 | agdam\n",
      "Processing Record 6 of Set 11 | esperance\n",
      "Processing Record 7 of Set 11 | parincea\n",
      "Processing Record 8 of Set 11 | sibiti\n",
      "Processing Record 9 of Set 11 | alto araguaia\n",
      "Processing Record 10 of Set 11 | sakakah\n",
      "Processing Record 11 of Set 11 | salalah\n",
      "Processing Record 12 of Set 11 | sayat\n",
      "Processing Record 13 of Set 11 | tokonou\n",
      "Processing Record 14 of Set 11 | palabuhanratu\n",
      "City not found. Skipping...\n",
      "Processing Record 15 of Set 11 | vallenar\n",
      "Processing Record 16 of Set 11 | atar\n",
      "Processing Record 17 of Set 11 | rolim de moura\n",
      "City not found. Skipping...\n",
      "Processing Record 18 of Set 11 | provideniya\n",
      "Processing Record 19 of Set 11 | lorengau\n",
      "Processing Record 20 of Set 11 | nouadhibou\n",
      "Processing Record 21 of Set 11 | kupang\n",
      "Processing Record 22 of Set 11 | nome\n",
      "Processing Record 23 of Set 11 | beloha\n",
      "Processing Record 24 of Set 11 | lata\n",
      "Processing Record 25 of Set 11 | coihaique\n",
      "Processing Record 26 of Set 11 | shepsi\n",
      "Processing Record 27 of Set 11 | rio brilhante\n",
      "Processing Record 28 of Set 11 | lagoa\n",
      "Processing Record 29 of Set 11 | carmen\n",
      "Processing Record 30 of Set 11 | zaraza\n",
      "Processing Record 31 of Set 11 | calamar\n",
      "Processing Record 32 of Set 11 | alta\n",
      "Processing Record 33 of Set 11 | ardrishaig\n",
      "Processing Record 34 of Set 11 | orbetello\n",
      "Processing Record 35 of Set 11 | miranda\n",
      "Processing Record 36 of Set 11 | ternate\n",
      "Processing Record 37 of Set 11 | zhuanghe\n",
      "Processing Record 38 of Set 11 | port hedland\n",
      "Processing Record 39 of Set 11 | hasaki\n",
      "Processing Record 40 of Set 11 | chipiona\n",
      "Processing Record 41 of Set 11 | partizanske\n",
      "Processing Record 42 of Set 11 | la primavera\n",
      "Processing Record 43 of Set 11 | san antonio\n",
      "Processing Record 44 of Set 11 | macaboboni\n",
      "City not found. Skipping...\n",
      "Processing Record 45 of Set 11 | bagdarin\n",
      "Processing Record 46 of Set 11 | upernavik\n",
      "Processing Record 47 of Set 11 | saldanha\n",
      "Processing Record 48 of Set 11 | marzuq\n",
      "Processing Record 49 of Set 11 | wagar\n",
      "Processing Record 50 of Set 11 | szigetvar\n",
      "Processing Record 1 of Set 12 | lolua\n",
      "City not found. Skipping...\n",
      "Processing Record 2 of Set 12 | fujin\n",
      "Processing Record 3 of Set 12 | port blair\n",
      "Processing Record 4 of Set 12 | hambantota\n",
      "Processing Record 5 of Set 12 | ginda\n",
      "Processing Record 6 of Set 12 | at-bashi\n",
      "Processing Record 7 of Set 12 | autun\n",
      "Processing Record 8 of Set 12 | fort-shevchenko\n",
      "Processing Record 9 of Set 12 | saint-pierre\n",
      "Processing Record 10 of Set 12 | stamford\n",
      "Processing Record 11 of Set 12 | panama city\n",
      "Processing Record 12 of Set 12 | manhumirim\n"
     ]
    },
    {
     "name": "stdout",
     "output_type": "stream",
     "text": [
      "Processing Record 13 of Set 12 | jaramana\n",
      "City not found. Skipping...\n",
      "Processing Record 14 of Set 12 | zhigansk\n",
      "Processing Record 15 of Set 12 | karaton\n",
      "Processing Record 16 of Set 12 | lampa\n",
      "Processing Record 17 of Set 12 | rodeo\n",
      "Processing Record 18 of Set 12 | kalabo\n",
      "Processing Record 19 of Set 12 | turukhansk\n",
      "Processing Record 20 of Set 12 | takoradi\n",
      "Processing Record 21 of Set 12 | sangar\n",
      "Processing Record 22 of Set 12 | castleisland\n",
      "Processing Record 23 of Set 12 | tulum\n",
      "Processing Record 24 of Set 12 | dharchula\n",
      "Processing Record 25 of Set 12 | foggia\n",
      "Processing Record 26 of Set 12 | meadow lake\n",
      "Processing Record 27 of Set 12 | vangaindrano\n",
      "Processing Record 28 of Set 12 | malanje\n",
      "Processing Record 29 of Set 12 | sudak\n",
      "Processing Record 30 of Set 12 | rakiv lis\n",
      "Processing Record 31 of Set 12 | teluknaga\n",
      "Processing Record 32 of Set 12 | hervey bay\n",
      "Processing Record 33 of Set 12 | kampene\n",
      "Processing Record 34 of Set 12 | touros\n",
      "Processing Record 35 of Set 12 | pimenteiras\n",
      "Processing Record 36 of Set 12 | wulanhaote\n",
      "City not found. Skipping...\n",
      "Processing Record 37 of Set 12 | baniachang\n",
      "Processing Record 38 of Set 12 | khonuu\n",
      "City not found. Skipping...\n",
      "Processing Record 39 of Set 12 | vredendal\n",
      "Processing Record 40 of Set 12 | igarka\n",
      "Processing Record 41 of Set 12 | fairbanks\n",
      "Processing Record 42 of Set 12 | yokadouma\n",
      "Processing Record 43 of Set 12 | samarai\n",
      "Processing Record 44 of Set 12 | toppenish\n",
      "Processing Record 45 of Set 12 | baruun-urt\n",
      "Processing Record 46 of Set 12 | isangel\n",
      "Processing Record 47 of Set 12 | gualaquiza\n",
      "Processing Record 48 of Set 12 | gat\n",
      "Processing Record 49 of Set 12 | auchi\n",
      "Processing Record 50 of Set 12 | bairiki\n",
      "Processing Record 1 of Set 13 | padang\n",
      "Processing Record 2 of Set 13 | ostersund\n",
      "Processing Record 3 of Set 13 | whitehorse\n",
      "Processing Record 4 of Set 13 | miri\n",
      "Processing Record 5 of Set 13 | nuuk\n",
      "Processing Record 6 of Set 13 | koson\n",
      "Processing Record 7 of Set 13 | imbituba\n",
      "Processing Record 8 of Set 13 | evensk\n",
      "Processing Record 9 of Set 13 | rosarito\n",
      "Processing Record 10 of Set 13 | madera\n",
      "Processing Record 11 of Set 13 | maracaju\n",
      "Processing Record 12 of Set 13 | bahir dar\n",
      "Processing Record 13 of Set 13 | sao felix do xingu\n",
      "Processing Record 14 of Set 13 | sijunjung\n",
      "Processing Record 15 of Set 13 | koutsouras\n",
      "Processing Record 16 of Set 13 | litovko\n",
      "Processing Record 17 of Set 13 | tuntum\n",
      "Processing Record 18 of Set 13 | sao miguel do araguaia\n",
      "Processing Record 19 of Set 13 | bilma\n",
      "Processing Record 20 of Set 13 | tawnat\n",
      "City not found. Skipping...\n",
      "-----------------------------\n",
      "Data Retrieval Complete      \n",
      "-----------------------------\n"
     ]
    }
   ],
   "source": [
    "# Create an empty list to hold the weather data.\n",
    "city_data = []\n",
    "# Print the beginning of the logging.\n",
    "print(\"Beginning Data Retrieval     \")\n",
    "print(\"-----------------------------\")\n",
    "\n",
    "# Create counters.\n",
    "record_count = 1\n",
    "set_count = 1\n",
    "\n",
    "# Loop through all the cities in the list.\n",
    "for i, city in enumerate(cities):\n",
    "    \n",
    "    # Group cities in sets of 50 for logging purposes.\n",
    "    if (i % 50 == 0 and i >= 50):\n",
    "        set_count += 1\n",
    "        record_count = 1\n",
    "    # Create endpoint URL with each city.\n",
    "    city_url = url + \"&q=\" + cities[i]\n",
    "    \n",
    "    # Log the URL, record, and set numbers and the city.\n",
    "    print(f\"Processing Record {record_count} of Set {set_count} | {city}\")\n",
    "    # Add 1 to the record count.\n",
    "    record_count += 1\n",
    "    # Run an API request for each of the cities.\n",
    "    try:\n",
    "        # Parse the JSON and retrieve data.\n",
    "        city_weather = requests.get(city_url).json()\n",
    "        # Parse out the needed data.\n",
    "        city_lat = city_weather[\"coord\"][\"lat\"]\n",
    "        city_lng = city_weather[\"coord\"][\"lon\"]\n",
    "        city_max_temp = city_weather[\"main\"][\"temp_max\"]\n",
    "        city_humidity = city_weather[\"main\"][\"humidity\"]\n",
    "        city_clouds = city_weather[\"clouds\"][\"all\"]\n",
    "        city_wind = city_weather[\"wind\"][\"speed\"]\n",
    "        city_country = city_weather[\"sys\"][\"country\"]\n",
    "        # Convert the date to ISO standard.\n",
    "        city_date = datetime.utcfromtimestamp(city_weather[\"dt\"]).strftime('%Y-%m-%d %H:%M:%S')\n",
    "        # Append the city information into city_data list.\n",
    "        city_data.append({\"City\": city.title(),\n",
    "                          \"Lat\": city_lat,\n",
    "                          \"Lng\": city_lng,\n",
    "                          \"Max Temp\": city_max_temp,\n",
    "                          \"Humidity\": city_humidity,\n",
    "                          \"Cloudiness\": city_clouds,\n",
    "                          \"Wind Speed\": city_wind,\n",
    "                          \"Country\": city_country,\n",
    "                          \"Date\": city_date})\n",
    "\n",
    "# If an error is experienced, skip the city.\n",
    "    except:\n",
    "        print(\"City not found. Skipping...\")\n",
    "        pass\n",
    "\n",
    "# Indicate that Data Loading is complete.\n",
    "print(\"-----------------------------\")\n",
    "print(\"Data Retrieval Complete      \")\n",
    "print(\"-----------------------------\")\n"
   ]
  },
  {
   "cell_type": "code",
   "execution_count": 22,
   "metadata": {},
   "outputs": [
    {
     "data": {
      "text/html": [
       "<div>\n",
       "<style scoped>\n",
       "    .dataframe tbody tr th:only-of-type {\n",
       "        vertical-align: middle;\n",
       "    }\n",
       "\n",
       "    .dataframe tbody tr th {\n",
       "        vertical-align: top;\n",
       "    }\n",
       "\n",
       "    .dataframe thead th {\n",
       "        text-align: right;\n",
       "    }\n",
       "</style>\n",
       "<table border=\"1\" class=\"dataframe\">\n",
       "  <thead>\n",
       "    <tr style=\"text-align: right;\">\n",
       "      <th></th>\n",
       "      <th>City</th>\n",
       "      <th>Lat</th>\n",
       "      <th>Lng</th>\n",
       "      <th>Max Temp</th>\n",
       "      <th>Humidity</th>\n",
       "      <th>Cloudiness</th>\n",
       "      <th>Wind Speed</th>\n",
       "      <th>Country</th>\n",
       "      <th>Date</th>\n",
       "    </tr>\n",
       "  </thead>\n",
       "  <tbody>\n",
       "    <tr>\n",
       "      <th>0</th>\n",
       "      <td>Busselton</td>\n",
       "      <td>-33.6500</td>\n",
       "      <td>115.3333</td>\n",
       "      <td>64.99</td>\n",
       "      <td>64</td>\n",
       "      <td>100</td>\n",
       "      <td>5.99</td>\n",
       "      <td>AU</td>\n",
       "      <td>2021-04-10 18:16:56</td>\n",
       "    </tr>\n",
       "    <tr>\n",
       "      <th>1</th>\n",
       "      <td>Nantucket</td>\n",
       "      <td>41.2835</td>\n",
       "      <td>-70.0995</td>\n",
       "      <td>53.01</td>\n",
       "      <td>81</td>\n",
       "      <td>1</td>\n",
       "      <td>12.66</td>\n",
       "      <td>US</td>\n",
       "      <td>2021-04-10 18:14:59</td>\n",
       "    </tr>\n",
       "    <tr>\n",
       "      <th>2</th>\n",
       "      <td>Mataura</td>\n",
       "      <td>-46.1927</td>\n",
       "      <td>168.8643</td>\n",
       "      <td>57.00</td>\n",
       "      <td>93</td>\n",
       "      <td>96</td>\n",
       "      <td>5.01</td>\n",
       "      <td>NZ</td>\n",
       "      <td>2021-04-10 18:16:56</td>\n",
       "    </tr>\n",
       "    <tr>\n",
       "      <th>3</th>\n",
       "      <td>Pocinhos</td>\n",
       "      <td>-7.0767</td>\n",
       "      <td>-36.0611</td>\n",
       "      <td>75.20</td>\n",
       "      <td>88</td>\n",
       "      <td>75</td>\n",
       "      <td>14.97</td>\n",
       "      <td>BR</td>\n",
       "      <td>2021-04-10 18:16:57</td>\n",
       "    </tr>\n",
       "    <tr>\n",
       "      <th>4</th>\n",
       "      <td>San Policarpo</td>\n",
       "      <td>12.1791</td>\n",
       "      <td>125.5072</td>\n",
       "      <td>79.21</td>\n",
       "      <td>80</td>\n",
       "      <td>98</td>\n",
       "      <td>10.63</td>\n",
       "      <td>PH</td>\n",
       "      <td>2021-04-10 18:16:57</td>\n",
       "    </tr>\n",
       "    <tr>\n",
       "      <th>5</th>\n",
       "      <td>Rikitea</td>\n",
       "      <td>-23.1203</td>\n",
       "      <td>-134.9692</td>\n",
       "      <td>78.75</td>\n",
       "      <td>71</td>\n",
       "      <td>2</td>\n",
       "      <td>9.51</td>\n",
       "      <td>PF</td>\n",
       "      <td>2021-04-10 18:16:57</td>\n",
       "    </tr>\n",
       "    <tr>\n",
       "      <th>6</th>\n",
       "      <td>Zabol</td>\n",
       "      <td>32.2500</td>\n",
       "      <td>67.2500</td>\n",
       "      <td>62.37</td>\n",
       "      <td>17</td>\n",
       "      <td>41</td>\n",
       "      <td>7.27</td>\n",
       "      <td>AF</td>\n",
       "      <td>2021-04-10 18:16:58</td>\n",
       "    </tr>\n",
       "    <tr>\n",
       "      <th>7</th>\n",
       "      <td>Saint-Philippe</td>\n",
       "      <td>-21.3585</td>\n",
       "      <td>55.7679</td>\n",
       "      <td>80.60</td>\n",
       "      <td>69</td>\n",
       "      <td>90</td>\n",
       "      <td>11.12</td>\n",
       "      <td>RE</td>\n",
       "      <td>2021-04-10 18:16:58</td>\n",
       "    </tr>\n",
       "    <tr>\n",
       "      <th>8</th>\n",
       "      <td>Takapau</td>\n",
       "      <td>-40.0333</td>\n",
       "      <td>176.3500</td>\n",
       "      <td>59.00</td>\n",
       "      <td>94</td>\n",
       "      <td>64</td>\n",
       "      <td>1.86</td>\n",
       "      <td>NZ</td>\n",
       "      <td>2021-04-10 18:16:58</td>\n",
       "    </tr>\n",
       "    <tr>\n",
       "      <th>9</th>\n",
       "      <td>Hilo</td>\n",
       "      <td>19.7297</td>\n",
       "      <td>-155.0900</td>\n",
       "      <td>71.60</td>\n",
       "      <td>68</td>\n",
       "      <td>1</td>\n",
       "      <td>3.44</td>\n",
       "      <td>US</td>\n",
       "      <td>2021-04-10 18:15:24</td>\n",
       "    </tr>\n",
       "  </tbody>\n",
       "</table>\n",
       "</div>"
      ],
      "text/plain": [
       "             City      Lat       Lng  Max Temp  Humidity  Cloudiness  \\\n",
       "0       Busselton -33.6500  115.3333     64.99        64         100   \n",
       "1       Nantucket  41.2835  -70.0995     53.01        81           1   \n",
       "2         Mataura -46.1927  168.8643     57.00        93          96   \n",
       "3        Pocinhos  -7.0767  -36.0611     75.20        88          75   \n",
       "4   San Policarpo  12.1791  125.5072     79.21        80          98   \n",
       "5         Rikitea -23.1203 -134.9692     78.75        71           2   \n",
       "6           Zabol  32.2500   67.2500     62.37        17          41   \n",
       "7  Saint-Philippe -21.3585   55.7679     80.60        69          90   \n",
       "8         Takapau -40.0333  176.3500     59.00        94          64   \n",
       "9            Hilo  19.7297 -155.0900     71.60        68           1   \n",
       "\n",
       "   Wind Speed Country                 Date  \n",
       "0        5.99      AU  2021-04-10 18:16:56  \n",
       "1       12.66      US  2021-04-10 18:14:59  \n",
       "2        5.01      NZ  2021-04-10 18:16:56  \n",
       "3       14.97      BR  2021-04-10 18:16:57  \n",
       "4       10.63      PH  2021-04-10 18:16:57  \n",
       "5        9.51      PF  2021-04-10 18:16:57  \n",
       "6        7.27      AF  2021-04-10 18:16:58  \n",
       "7       11.12      RE  2021-04-10 18:16:58  \n",
       "8        1.86      NZ  2021-04-10 18:16:58  \n",
       "9        3.44      US  2021-04-10 18:15:24  "
      ]
     },
     "execution_count": 22,
     "metadata": {},
     "output_type": "execute_result"
    }
   ],
   "source": [
    "# Convert the array of dictionaries to a Pandas DataFrame.\n",
    "city_data_df = pd.DataFrame(city_data)\n",
    "city_data_df.head(10)"
   ]
  },
  {
   "cell_type": "code",
   "execution_count": 23,
   "metadata": {},
   "outputs": [
    {
     "data": {
      "text/html": [
       "<div>\n",
       "<style scoped>\n",
       "    .dataframe tbody tr th:only-of-type {\n",
       "        vertical-align: middle;\n",
       "    }\n",
       "\n",
       "    .dataframe tbody tr th {\n",
       "        vertical-align: top;\n",
       "    }\n",
       "\n",
       "    .dataframe thead th {\n",
       "        text-align: right;\n",
       "    }\n",
       "</style>\n",
       "<table border=\"1\" class=\"dataframe\">\n",
       "  <thead>\n",
       "    <tr style=\"text-align: right;\">\n",
       "      <th></th>\n",
       "      <th>City</th>\n",
       "      <th>Cloudiness</th>\n",
       "      <th>Country</th>\n",
       "      <th>Date</th>\n",
       "      <th>Humidity</th>\n",
       "      <th>Lat</th>\n",
       "      <th>Lng</th>\n",
       "      <th>Max Temp</th>\n",
       "      <th>Wind Speed</th>\n",
       "    </tr>\n",
       "  </thead>\n",
       "  <tbody>\n",
       "    <tr>\n",
       "      <th>0</th>\n",
       "      <td>Busselton</td>\n",
       "      <td>100</td>\n",
       "      <td>AU</td>\n",
       "      <td>2021-04-10 18:16:56</td>\n",
       "      <td>64</td>\n",
       "      <td>-33.6500</td>\n",
       "      <td>115.3333</td>\n",
       "      <td>64.99</td>\n",
       "      <td>5.99</td>\n",
       "    </tr>\n",
       "    <tr>\n",
       "      <th>1</th>\n",
       "      <td>Nantucket</td>\n",
       "      <td>1</td>\n",
       "      <td>US</td>\n",
       "      <td>2021-04-10 18:14:59</td>\n",
       "      <td>81</td>\n",
       "      <td>41.2835</td>\n",
       "      <td>-70.0995</td>\n",
       "      <td>53.01</td>\n",
       "      <td>12.66</td>\n",
       "    </tr>\n",
       "    <tr>\n",
       "      <th>2</th>\n",
       "      <td>Mataura</td>\n",
       "      <td>96</td>\n",
       "      <td>NZ</td>\n",
       "      <td>2021-04-10 18:16:56</td>\n",
       "      <td>93</td>\n",
       "      <td>-46.1927</td>\n",
       "      <td>168.8643</td>\n",
       "      <td>57.00</td>\n",
       "      <td>5.01</td>\n",
       "    </tr>\n",
       "    <tr>\n",
       "      <th>3</th>\n",
       "      <td>Pocinhos</td>\n",
       "      <td>75</td>\n",
       "      <td>BR</td>\n",
       "      <td>2021-04-10 18:16:57</td>\n",
       "      <td>88</td>\n",
       "      <td>-7.0767</td>\n",
       "      <td>-36.0611</td>\n",
       "      <td>75.20</td>\n",
       "      <td>14.97</td>\n",
       "    </tr>\n",
       "    <tr>\n",
       "      <th>4</th>\n",
       "      <td>San Policarpo</td>\n",
       "      <td>98</td>\n",
       "      <td>PH</td>\n",
       "      <td>2021-04-10 18:16:57</td>\n",
       "      <td>80</td>\n",
       "      <td>12.1791</td>\n",
       "      <td>125.5072</td>\n",
       "      <td>79.21</td>\n",
       "      <td>10.63</td>\n",
       "    </tr>\n",
       "    <tr>\n",
       "      <th>...</th>\n",
       "      <td>...</td>\n",
       "      <td>...</td>\n",
       "      <td>...</td>\n",
       "      <td>...</td>\n",
       "      <td>...</td>\n",
       "      <td>...</td>\n",
       "      <td>...</td>\n",
       "      <td>...</td>\n",
       "      <td>...</td>\n",
       "    </tr>\n",
       "    <tr>\n",
       "      <th>563</th>\n",
       "      <td>Koutsouras</td>\n",
       "      <td>0</td>\n",
       "      <td>GR</td>\n",
       "      <td>2021-04-10 18:20:13</td>\n",
       "      <td>51</td>\n",
       "      <td>35.0339</td>\n",
       "      <td>25.9469</td>\n",
       "      <td>52.92</td>\n",
       "      <td>18.39</td>\n",
       "    </tr>\n",
       "    <tr>\n",
       "      <th>564</th>\n",
       "      <td>Litovko</td>\n",
       "      <td>65</td>\n",
       "      <td>RU</td>\n",
       "      <td>2021-04-10 18:20:13</td>\n",
       "      <td>44</td>\n",
       "      <td>49.2361</td>\n",
       "      <td>135.1742</td>\n",
       "      <td>44.56</td>\n",
       "      <td>12.17</td>\n",
       "    </tr>\n",
       "    <tr>\n",
       "      <th>565</th>\n",
       "      <td>Tuntum</td>\n",
       "      <td>65</td>\n",
       "      <td>BR</td>\n",
       "      <td>2021-04-10 18:20:13</td>\n",
       "      <td>58</td>\n",
       "      <td>-5.2581</td>\n",
       "      <td>-44.6489</td>\n",
       "      <td>87.66</td>\n",
       "      <td>6.58</td>\n",
       "    </tr>\n",
       "    <tr>\n",
       "      <th>566</th>\n",
       "      <td>Sao Miguel Do Araguaia</td>\n",
       "      <td>7</td>\n",
       "      <td>BR</td>\n",
       "      <td>2021-04-10 18:20:14</td>\n",
       "      <td>51</td>\n",
       "      <td>-13.2750</td>\n",
       "      <td>-50.1628</td>\n",
       "      <td>86.56</td>\n",
       "      <td>4.83</td>\n",
       "    </tr>\n",
       "    <tr>\n",
       "      <th>567</th>\n",
       "      <td>Bilma</td>\n",
       "      <td>54</td>\n",
       "      <td>NE</td>\n",
       "      <td>2021-04-10 18:20:14</td>\n",
       "      <td>5</td>\n",
       "      <td>18.6853</td>\n",
       "      <td>12.9164</td>\n",
       "      <td>92.12</td>\n",
       "      <td>10.45</td>\n",
       "    </tr>\n",
       "  </tbody>\n",
       "</table>\n",
       "<p>568 rows × 9 columns</p>\n",
       "</div>"
      ],
      "text/plain": [
       "                       City  Cloudiness Country                 Date  \\\n",
       "0                 Busselton         100      AU  2021-04-10 18:16:56   \n",
       "1                 Nantucket           1      US  2021-04-10 18:14:59   \n",
       "2                   Mataura          96      NZ  2021-04-10 18:16:56   \n",
       "3                  Pocinhos          75      BR  2021-04-10 18:16:57   \n",
       "4             San Policarpo          98      PH  2021-04-10 18:16:57   \n",
       "..                      ...         ...     ...                  ...   \n",
       "563              Koutsouras           0      GR  2021-04-10 18:20:13   \n",
       "564                 Litovko          65      RU  2021-04-10 18:20:13   \n",
       "565                  Tuntum          65      BR  2021-04-10 18:20:13   \n",
       "566  Sao Miguel Do Araguaia           7      BR  2021-04-10 18:20:14   \n",
       "567                   Bilma          54      NE  2021-04-10 18:20:14   \n",
       "\n",
       "     Humidity      Lat       Lng  Max Temp  Wind Speed  \n",
       "0          64 -33.6500  115.3333     64.99        5.99  \n",
       "1          81  41.2835  -70.0995     53.01       12.66  \n",
       "2          93 -46.1927  168.8643     57.00        5.01  \n",
       "3          88  -7.0767  -36.0611     75.20       14.97  \n",
       "4          80  12.1791  125.5072     79.21       10.63  \n",
       "..        ...      ...       ...       ...         ...  \n",
       "563        51  35.0339   25.9469     52.92       18.39  \n",
       "564        44  49.2361  135.1742     44.56       12.17  \n",
       "565        58  -5.2581  -44.6489     87.66        6.58  \n",
       "566        51 -13.2750  -50.1628     86.56        4.83  \n",
       "567         5  18.6853   12.9164     92.12       10.45  \n",
       "\n",
       "[568 rows x 9 columns]"
      ]
     },
     "execution_count": 23,
     "metadata": {},
     "output_type": "execute_result"
    }
   ],
   "source": [
    "new_column_order = [\"City\", \"Cloudiness\", \"Country\",\"Date\",\"Humidity\",\"Lat\",\"Lng\",\"Max Temp\",\"Wind Speed\"]\n",
    "new_city_data_df = city_data_df[new_column_order]\n",
    "new_city_data_df"
   ]
  },
  {
   "cell_type": "code",
   "execution_count": 24,
   "metadata": {},
   "outputs": [],
   "source": [
    "# Create the output file (CSV).\n",
    "output_data_file = \"weather_data/cities.csv\"\n",
    "# Export the City_Data into a CSV.\n",
    "city_data_df.to_csv(output_data_file, index_label=\"City_ID\")"
   ]
  },
  {
   "cell_type": "code",
   "execution_count": 25,
   "metadata": {},
   "outputs": [],
   "source": [
    "# Extract relevant fields from the DataFrame for plotting.\n",
    "lats = city_data_df[\"Lat\"]\n",
    "max_temps = city_data_df[\"Max Temp\"]\n",
    "humidity = city_data_df[\"Humidity\"]\n",
    "cloudiness = city_data_df[\"Cloudiness\"]\n",
    "wind_speed = city_data_df[\"Wind Speed\"]"
   ]
  },
  {
   "cell_type": "code",
   "execution_count": 26,
   "metadata": {},
   "outputs": [
    {
     "data": {
      "text/plain": [
       "1618078814.88611"
      ]
     },
     "execution_count": 26,
     "metadata": {},
     "output_type": "execute_result"
    }
   ],
   "source": [
    "# Import the time module.\n",
    "import time\n",
    "# Get today's date in seconds.\n",
    "today = time.time()\n",
    "today"
   ]
  },
  {
   "cell_type": "code",
   "execution_count": 46,
   "metadata": {},
   "outputs": [
    {
     "data": {
      "image/png": "[encoded data removed]",
      "text/plain": [
       "<Figure size 432x288 with 1 Axes>"
      ]
     },
     "metadata": {
      "needs_background": "light"
     },
     "output_type": "display_data"
    }
   ],
   "source": [
    "# Import time module\n",
    "import time\n",
    "\n",
    "# Build the scatter plot for latitude vs. max temperature.\n",
    "plt.scatter(lats,\n",
    "            max_temps,\n",
    "            edgecolor=\"black\", linewidths=1, marker=\"o\",\n",
    "            alpha=0.8, label=\"Cities\")\n",
    "\n",
    "# Incorporate the other graph properties.\n",
    "plt.title(f\"City Latitude vs. Max Temperature \"+ time.strftime(\"%x\"))\n",
    "plt.ylabel(\"Max Temperature (F)\")\n",
    "plt.xlabel(\"Latitude\")\n",
    "plt.grid(True)\n",
    "\n",
    "# Save the figure.\n",
    "plt.savefig(\"weather_data/Fig1.png\")\n",
    "\n",
    "# Show plot.\n",
    "plt.show()"
   ]
  },
  {
   "cell_type": "code",
   "execution_count": 45,
   "metadata": {},
   "outputs": [
    {
     "data": {
      "image/png": "[encoded data removed]",
      "text/plain": [
       "<Figure size 432x288 with 1 Axes>"
      ]
     },
     "metadata": {
      "needs_background": "light"
     },
     "output_type": "display_data"
    }
   ],
   "source": [
    "# Build the scatter plots for latitude vs. humidity.\n",
    "plt.scatter(lats,\n",
    "            humidity,\n",
    "            edgecolor=\"black\", linewidths=1, marker=\"o\",\n",
    "            alpha=0.8, label=\"Cities\")\n",
    "\n",
    "# Incorporate the other graph properties.\n",
    "plt.title(f\"City Latitude vs. Humidity \"+ time.strftime(\"%x\"))\n",
    "plt.ylabel(\"Humidity (%)\")\n",
    "plt.xlabel(\"Latitude\")\n",
    "plt.grid(True)\n",
    "# Save the figure.\n",
    "plt.savefig(\"weather_data/Fig2.png\")\n",
    "# Show plot.\n",
    "plt.show()"
   ]
  },
  {
   "cell_type": "code",
   "execution_count": 44,
   "metadata": {},
   "outputs": [
    {
     "data": {
      "image/png": "[encoded data removed]",
      "text/plain": [
       "<Figure size 432x288 with 1 Axes>"
      ]
     },
     "metadata": {
      "needs_background": "light"
     },
     "output_type": "display_data"
    }
   ],
   "source": [
    "# Build the scatter plots for latitude vs. cloudiness.\n",
    "plt.scatter(lats,\n",
    "            cloudiness,\n",
    "            edgecolor=\"black\", linewidths=1, marker=\"o\",\n",
    "            alpha=0.8, label=\"Cities\")\n",
    "\n",
    "# Incorporate the other graph properties.\n",
    "plt.title(f\"City Latitude vs. Cloudiness (%) \"+ time.strftime(\"%x\"))\n",
    "plt.ylabel(\"Cloudiness (%)\")\n",
    "plt.xlabel(\"Latitude\")\n",
    "plt.grid(True)\n",
    "# Save the figure.\n",
    "plt.savefig(\"weather_data/Fig3.png\")\n",
    "# Show plot.\n",
    "plt.show()"
   ]
  },
  {
   "cell_type": "code",
   "execution_count": 30,
   "metadata": {},
   "outputs": [
    {
     "data": {
      "image/png": "[encoded data removed]",
      "text/plain": [
       "<Figure size 432x288 with 1 Axes>"
      ]
     },
     "metadata": {
      "needs_background": "light"
     },
     "output_type": "display_data"
    }
   ],
   "source": [
    "# Build the scatter plots for latitude vs. wind speed.\n",
    "plt.scatter(lats,\n",
    "            wind_speed,\n",
    "            edgecolor=\"black\", linewidths=1, marker=\"o\",\n",
    "            alpha=0.8, label=\"Cities\")\n",
    "\n",
    "# Incorporate the other graph properties.\n",
    "plt.title(f\"City Latitude vs. Wind Speed \"+ time.strftime(\"%x\"))\n",
    "plt.ylabel(\"Wind Speed (mph)\")\n",
    "plt.xlabel(\"Latitude\")\n",
    "plt.grid(True)\n",
    "# Save the figure.\n",
    "folder = \"weather_data\"\n",
    "f_name = \"fig4.png\"\n",
    "plt.savefig(os.path.join(folder,f_name))\n",
    "# Show plot.\n",
    "plt.show()"
   ]
  },
  {
   "cell_type": "code",
   "execution_count": 31,
   "metadata": {},
   "outputs": [],
   "source": [
    "# Import linregress\n",
    "from scipy.stats import linregress\n",
    "\n",
    "# Create a function to create perform linear regression on the weather data\n",
    "# and plot a regression line and the equation with the data.\n",
    "def plot_linear_regression(x_values, y_values, title, y_label, text_coordinates):\n",
    "\n",
    "    # Run regression on hemisphere weather data.\n",
    "    (slope, intercept, r_value, p_value, std_err) = linregress(x_values, y_values)\n",
    "\n",
    "    # Calculate the regression line \"y values\" from the slope and intercept.\n",
    "    regress_values = x_values * slope + intercept\n",
    "    # Get the equation of the line.\n",
    "    line_eq = \"y = \" + str(round(slope,2)) + \"x + \" + str(round(intercept,2))\n",
    "    # Create a scatter plot and plot the regression line.\n",
    "    plt.scatter(x_values,y_values)\n",
    "    plt.plot(x_values,regress_values,\"r\")\n",
    "    # Annotate the text for the line equation.\n",
    "    plt.annotate(line_eq, text_coordinates, fontsize=15, color=\"red\")\n",
    "    plt.xlabel('Latitude')\n",
    "    plt.ylabel(y_label)\n",
    "    plt.show()"
   ]
  },
  {
   "cell_type": "code",
   "execution_count": 32,
   "metadata": {},
   "outputs": [
    {
     "data": {
      "text/plain": [
       "City                      Ushuaia\n",
       "Lat                         -54.8\n",
       "Lng                         -68.3\n",
       "Max Temp                     53.6\n",
       "Humidity                       54\n",
       "Cloudiness                     40\n",
       "Wind Speed                  12.66\n",
       "Country                        AR\n",
       "Date          2021-04-10 18:17:00\n",
       "Name: 13, dtype: object"
      ]
     },
     "execution_count": 32,
     "metadata": {},
     "output_type": "execute_result"
    }
   ],
   "source": [
    "index13 = city_data_df.loc[13]\n",
    "index13"
   ]
  },
  {
   "cell_type": "code",
   "execution_count": 33,
   "metadata": {},
   "outputs": [
    {
     "data": {
      "text/plain": [
       "0      False\n",
       "1       True\n",
       "2      False\n",
       "3      False\n",
       "4       True\n",
       "       ...  \n",
       "563     True\n",
       "564     True\n",
       "565    False\n",
       "566    False\n",
       "567     True\n",
       "Name: Lat, Length: 568, dtype: bool"
      ]
     },
     "execution_count": 33,
     "metadata": {},
     "output_type": "execute_result"
    }
   ],
   "source": [
    "city_data_df[\"Lat\"] >= 0"
   ]
  },
  {
   "cell_type": "code",
   "execution_count": 34,
   "metadata": {},
   "outputs": [
    {
     "data": {
      "text/html": [
       "<div>\n",
       "<style scoped>\n",
       "    .dataframe tbody tr th:only-of-type {\n",
       "        vertical-align: middle;\n",
       "    }\n",
       "\n",
       "    .dataframe tbody tr th {\n",
       "        vertical-align: top;\n",
       "    }\n",
       "\n",
       "    .dataframe thead th {\n",
       "        text-align: right;\n",
       "    }\n",
       "</style>\n",
       "<table border=\"1\" class=\"dataframe\">\n",
       "  <thead>\n",
       "    <tr style=\"text-align: right;\">\n",
       "      <th></th>\n",
       "      <th>City</th>\n",
       "      <th>Lat</th>\n",
       "      <th>Lng</th>\n",
       "      <th>Max Temp</th>\n",
       "      <th>Humidity</th>\n",
       "      <th>Cloudiness</th>\n",
       "      <th>Wind Speed</th>\n",
       "      <th>Country</th>\n",
       "      <th>Date</th>\n",
       "    </tr>\n",
       "  </thead>\n",
       "  <tbody>\n",
       "    <tr>\n",
       "      <th>1</th>\n",
       "      <td>Nantucket</td>\n",
       "      <td>41.2835</td>\n",
       "      <td>-70.0995</td>\n",
       "      <td>53.01</td>\n",
       "      <td>81</td>\n",
       "      <td>1</td>\n",
       "      <td>12.66</td>\n",
       "      <td>US</td>\n",
       "      <td>2021-04-10 18:14:59</td>\n",
       "    </tr>\n",
       "    <tr>\n",
       "      <th>4</th>\n",
       "      <td>San Policarpo</td>\n",
       "      <td>12.1791</td>\n",
       "      <td>125.5072</td>\n",
       "      <td>79.21</td>\n",
       "      <td>80</td>\n",
       "      <td>98</td>\n",
       "      <td>10.63</td>\n",
       "      <td>PH</td>\n",
       "      <td>2021-04-10 18:16:57</td>\n",
       "    </tr>\n",
       "    <tr>\n",
       "      <th>6</th>\n",
       "      <td>Zabol</td>\n",
       "      <td>32.2500</td>\n",
       "      <td>67.2500</td>\n",
       "      <td>62.37</td>\n",
       "      <td>17</td>\n",
       "      <td>41</td>\n",
       "      <td>7.27</td>\n",
       "      <td>AF</td>\n",
       "      <td>2021-04-10 18:16:58</td>\n",
       "    </tr>\n",
       "    <tr>\n",
       "      <th>9</th>\n",
       "      <td>Hilo</td>\n",
       "      <td>19.7297</td>\n",
       "      <td>-155.0900</td>\n",
       "      <td>71.60</td>\n",
       "      <td>68</td>\n",
       "      <td>1</td>\n",
       "      <td>3.44</td>\n",
       "      <td>US</td>\n",
       "      <td>2021-04-10 18:15:24</td>\n",
       "    </tr>\n",
       "    <tr>\n",
       "      <th>10</th>\n",
       "      <td>Hofn</td>\n",
       "      <td>64.2539</td>\n",
       "      <td>-15.2082</td>\n",
       "      <td>33.42</td>\n",
       "      <td>41</td>\n",
       "      <td>2</td>\n",
       "      <td>4.70</td>\n",
       "      <td>IS</td>\n",
       "      <td>2021-04-10 18:16:59</td>\n",
       "    </tr>\n",
       "  </tbody>\n",
       "</table>\n",
       "</div>"
      ],
      "text/plain": [
       "             City      Lat       Lng  Max Temp  Humidity  Cloudiness  \\\n",
       "1       Nantucket  41.2835  -70.0995     53.01        81           1   \n",
       "4   San Policarpo  12.1791  125.5072     79.21        80          98   \n",
       "6           Zabol  32.2500   67.2500     62.37        17          41   \n",
       "9            Hilo  19.7297 -155.0900     71.60        68           1   \n",
       "10           Hofn  64.2539  -15.2082     33.42        41           2   \n",
       "\n",
       "    Wind Speed Country                 Date  \n",
       "1        12.66      US  2021-04-10 18:14:59  \n",
       "4        10.63      PH  2021-04-10 18:16:57  \n",
       "6         7.27      AF  2021-04-10 18:16:58  \n",
       "9         3.44      US  2021-04-10 18:15:24  \n",
       "10        4.70      IS  2021-04-10 18:16:59  "
      ]
     },
     "execution_count": 34,
     "metadata": {},
     "output_type": "execute_result"
    }
   ],
   "source": [
    "city_data_df.loc[(city_data_df[\"Lat\"] >= 0)].head()"
   ]
  },
  {
   "cell_type": "code",
   "execution_count": 35,
   "metadata": {},
   "outputs": [],
   "source": [
    "# Create Northern and Southern Hemisphere DataFrames.\n",
    "northern_hemi_df = city_data_df.loc[(city_data_df[\"Lat\"] >= 0)]\n",
    "southern_hemi_df = city_data_df.loc[(city_data_df[\"Lat\"] < 0)]"
   ]
  },
  {
   "cell_type": "code",
   "execution_count": 36,
   "metadata": {},
   "outputs": [
    {
     "data": {
      "image/png": "[encoded data removed]",
      "text/plain": [
       "<Figure size 432x288 with 1 Axes>"
      ]
     },
     "metadata": {
      "needs_background": "light"
     },
     "output_type": "display_data"
    }
   ],
   "source": [
    "# Linear regression on the Northern Hemisphere\n",
    "x_values = northern_hemi_df[\"Lat\"]\n",
    "y_values = northern_hemi_df[\"Max Temp\"]\n",
    "# Call the function.\n",
    "plot_linear_regression(x_values, y_values,\n",
    "                       'Linear Regression on the Northern Hemisphere \\\n",
    "                        for Maximum Temperature', 'Max Temp',(10,40))"
   ]
  },
  {
   "cell_type": "code",
   "execution_count": 37,
   "metadata": {},
   "outputs": [
    {
     "data": {
      "image/png": "[encoded data removed]",
      "text/plain": [
       "<Figure size 432x288 with 1 Axes>"
      ]
     },
     "metadata": {
      "needs_background": "light"
     },
     "output_type": "display_data"
    }
   ],
   "source": [
    "# Linear regression on the Southern Hemisphere\n",
    "x_values = southern_hemi_df[\"Lat\"]\n",
    "y_values = southern_hemi_df[\"Max Temp\"]\n",
    "# Call the function.\n",
    "plot_linear_regression(x_values, y_values,\n",
    "                       'Linear Regression on the Southern Hemisphere \\\n",
    "                        for Maximum Temperature', 'Max Temp',(-50,90))"
   ]
  },
  {
   "cell_type": "code",
   "execution_count": 38,
   "metadata": {},
   "outputs": [
    {
     "data": {
      "image/png": "[encoded data removed]",
      "text/plain": [
       "<Figure size 432x288 with 1 Axes>"
      ]
     },
     "metadata": {
      "needs_background": "light"
     },
     "output_type": "display_data"
    }
   ],
   "source": [
    "# Linear regression on the Northern Hemisphere\n",
    "x_values = northern_hemi_df[\"Lat\"]\n",
    "y_values = northern_hemi_df[\"Humidity\"]\n",
    "# Call the function.\n",
    "plot_linear_regression(x_values, y_values,\n",
    "                       'Linear Regression on the Northern Hemisphere \\\n",
    "                        for % Humidity', '% Humidity',(40,10))"
   ]
  },
  {
   "cell_type": "code",
   "execution_count": 39,
   "metadata": {},
   "outputs": [
    {
     "data": {
      "image/png": "[encoded data removed]",
      "text/plain": [
       "<Figure size 432x288 with 1 Axes>"
      ]
     },
     "metadata": {
      "needs_background": "light"
     },
     "output_type": "display_data"
    }
   ],
   "source": [
    "# Linear regression on the Southern Hemisphere\n",
    "x_values = southern_hemi_df[\"Lat\"]\n",
    "y_values = southern_hemi_df[\"Humidity\"]\n",
    "# Call the function.\n",
    "plot_linear_regression(x_values, y_values,\n",
    "                       'Linear Regression on the Southern Hemisphere for % Humidity', '% Humidity',(-50,15))"
   ]
  },
  {
   "cell_type": "code",
   "execution_count": 40,
   "metadata": {},
   "outputs": [
    {
     "data": {
      "image/png": "[encoded data removed]",
      "text/plain": [
       "<Figure size 432x288 with 1 Axes>"
      ]
     },
     "metadata": {
      "needs_background": "light"
     },
     "output_type": "display_data"
    }
   ],
   "source": [
    "# Linear regression on the Northern Hemisphere\n",
    "x_values = northern_hemi_df[\"Lat\"]\n",
    "y_values = northern_hemi_df[\"Cloudiness\"]\n",
    "# Call the function.\n",
    "plot_linear_regression(x_values, y_values,\n",
    "                       'Linear Regression on the Northern Hemisphere for % Cloudiness', '% Cloudiness',(10,55))"
   ]
  },
  {
   "cell_type": "code",
   "execution_count": 41,
   "metadata": {},
   "outputs": [
    {
     "data": {
      "image/png": "[encoded data removed]",
      "text/plain": [
       "<Figure size 432x288 with 1 Axes>"
      ]
     },
     "metadata": {
      "needs_background": "light"
     },
     "output_type": "display_data"
    }
   ],
   "source": [
    "# Linear regression on the Southern Hemisphere\n",
    "x_values = southern_hemi_df[\"Lat\"]\n",
    "y_values = southern_hemi_df[\"Cloudiness\"]\n",
    "# Call the function.\n",
    "plot_linear_regression(x_values, y_values,\n",
    "                       'Linear Regression on the Southern Hemisphere for % Cloudiness', '% Cloudiness',(-50,60))"
   ]
  },
  {
   "cell_type": "code",
   "execution_count": 42,
   "metadata": {},
   "outputs": [
    {
     "data": {
      "image/png": "[encoded data removed]",
      "text/plain": [
       "<Figure size 432x288 with 1 Axes>"
      ]
     },
     "metadata": {
      "needs_background": "light"
     },
     "output_type": "display_data"
    }
   ],
   "source": [
    "# Linear regression on the Northern Hemisphere\n",
    "x_values = northern_hemi_df[\"Lat\"]\n",
    "y_values = northern_hemi_df[\"Wind Speed\"]\n",
    "# Call the function.\n",
    "plot_linear_regression(x_values, y_values,\n",
    "                       'Linear Regression on the Northern Hemisphere for Wind Speed', 'Wind Speed',(40,35))"
   ]
  },
  {
   "cell_type": "code",
   "execution_count": 43,
   "metadata": {},
   "outputs": [
    {
     "data": {
      "image/png": "[encoded data removed]",
      "text/plain": [
       "<Figure size 432x288 with 1 Axes>"
      ]
     },
     "metadata": {
      "needs_background": "light"
     },
     "output_type": "display_data"
    }
   ],
   "source": [
    "# Linear regression on the Southern Hemisphere\n",
    "x_values = southern_hemi_df[\"Lat\"]\n",
    "y_values = southern_hemi_df[\"Wind Speed\"]\n",
    "# Call the function.\n",
    "plot_linear_regression(x_values, y_values,\n",
    "                       'Linear Regression on the Southern Hemisphere for Wind Speed', 'Wind Speed',(-50,35))"
   ]
  },
  {
   "cell_type": "code",
   "execution_count": null,
   "metadata": {},
   "outputs": [],
   "source": []
  }
 ],
 "metadata": {
  "kernelspec": {
   "display_name": "PythonData",
   "language": "python",
   "name": "pythondata"
  },
  "language_info": {
   "codemirror_mode": {
    "name": "ipython",
    "version": 3
   },
   "file_extension": ".py",
   "mimetype": "text/x-python",
   "name": "python",
   "nbconvert_exporter": "python",
   "pygments_lexer": "ipython3",
   "version": "3.7.9"
  }
 },
 "nbformat": 4,
 "nbformat_minor": 4
}
